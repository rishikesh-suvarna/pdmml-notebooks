{
 "cells": [
  {
   "cell_type": "code",
   "execution_count": 4,
   "id": "387a0048",
   "metadata": {},
   "outputs": [
    {
     "name": "stdout",
     "output_type": "stream",
     "text": [
      "0.8092714860426045\n",
      "0.8092714860426045\n"
     ]
    }
   ],
   "source": [
    "import numpy as np\n",
    "\n",
    "SID = 2220742\n",
    "x1 = (SID/8964879)*23\n",
    "x2 = (SID/8964879)*32\n",
    "x3 = (SID/8964879)*56\n",
    "x4 = (SID/8964879)*48\n",
    "\n",
    "h1 = (5.6974629552*0.2) + (7.9269049811*0.2) + (13.8720837169*0.2) + (11.8903574716*0.2)\n",
    "h2 = (5.6974629552*0.2) + (7.9269049811*0.2) + (13.8720837169*0.2) + (11.8903574716*0.2)\n",
    "\n",
    "h3 =  (7.877361825*0.1) + (7.877361825*0.1)\n",
    "h4 = (7.877361825*0.1) + (7.877361825*0.1)\n",
    "\n",
    "O1 = (1*0.5) + (1.575472365 * 0.3) + (1.575472365 * 0.3)\n",
    "O2 = (1*0.5) + (1.575472365 * 0.3) + (1.575472365 * 0.3)\n",
    "\n",
    "def sigmoid(z):\n",
    "  # Your code to calculate the sigmoid values and then return it. Hint - np.exp()\n",
    "    return 1/(1 + np.exp(-z))\n",
    "\n",
    "print(sigmoid(O1))\n",
    "print(sigmoid(O2))"
   ]
  }
 ],
 "metadata": {
  "kernelspec": {
   "display_name": "Python 3 (ipykernel)",
   "language": "python",
   "name": "python3"
  },
  "language_info": {
   "codemirror_mode": {
    "name": "ipython",
    "version": 3
   },
   "file_extension": ".py",
   "mimetype": "text/x-python",
   "name": "python",
   "nbconvert_exporter": "python",
   "pygments_lexer": "ipython3",
   "version": "3.11.6"
  }
 },
 "nbformat": 4,
 "nbformat_minor": 5
}
